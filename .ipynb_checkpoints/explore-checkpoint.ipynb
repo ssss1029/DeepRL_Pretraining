{
 "cells": [
  {
   "cell_type": "code",
   "execution_count": 2,
   "metadata": {},
   "outputs": [
    {
     "data": {
      "text/html": [
       "<style>.container { width:80% !important; }</style>"
      ],
      "text/plain": [
       "<IPython.core.display.HTML object>"
      ]
     },
     "metadata": {},
     "output_type": "display_data"
    }
   ],
   "source": [
    "import json\n",
    "import os \n",
    "from matplotlib.pyplot import plt\n",
    "\n",
    "from IPython.core.display import display, HTML\n",
    "display(HTML(\"<style>.container { width:80% !important; }</style>\"))\n"
   ]
  },
  {
   "cell_type": "code",
   "execution_count": 3,
   "metadata": {},
   "outputs": [],
   "source": [
    "visualize_fnames = [\n",
    "    \"/accounts/projects/jsteinhardt/sauravkadavath/DeepRL_Pretraining/logs/walker_walk/no_ss/imagenet_pretrain_seed0_replayBuffer200k\",\n",
    "    \"/accounts/projects/jsteinhardt/sauravkadavath/DeepRL_Pretraining/logs/walker_walk/no_ss/no_pretraining_seed0_replayBuffer200k\"\n",
    "]"
   ]
  },
  {
   "cell_type": "code",
   "execution_count": null,
   "metadata": {},
   "outputs": [],
   "source": [
    "def show_log(log_dir):\n",
    "    plot_name = log_dir.split(\"/\")[-1]\n",
    "    log_fname = "
   ]
  }
 ],
 "metadata": {
  "kernelspec": {
   "display_name": "saurav-main-env",
   "language": "python",
   "name": "saurav-main-env"
  },
  "language_info": {
   "codemirror_mode": {
    "name": "ipython",
    "version": 3
   },
   "file_extension": ".py",
   "mimetype": "text/x-python",
   "name": "python",
   "nbconvert_exporter": "python",
   "pygments_lexer": "ipython3",
   "version": "3.7.5"
  }
 },
 "nbformat": 4,
 "nbformat_minor": 2
}
